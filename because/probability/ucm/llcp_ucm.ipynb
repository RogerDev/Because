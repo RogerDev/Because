{
 "cells": [
  {
   "cell_type": "code",
   "execution_count": 1,
   "metadata": {
    "ExecuteTime": {
     "end_time": "2023-08-09T02:21:47.196610Z",
     "start_time": "2023-08-09T02:21:41.683226Z"
    }
   },
   "outputs": [],
   "source": [
    "from because.synth import Reader\n",
    "from because.probability import prob\n",
    "from because.causality import cdisc\n",
    "from because.visualization import cmodel"
   ]
  },
  {
   "cell_type": "markdown",
   "metadata": {},
   "source": [
    "Read in dataset"
   ]
  },
  {
   "cell_type": "code",
   "execution_count": 2,
   "metadata": {
    "ExecuteTime": {
     "end_time": "2023-08-09T02:22:03.867885Z",
     "start_time": "2023-08-09T02:21:47.202445Z"
    }
   },
   "outputs": [
    {
     "name": "stdout",
     "output_type": "stream",
     "text": [
      "getData:  290759 records read.\n"
     ]
    }
   ],
   "source": [
    "filename = \"models/llcp.csv\"\n",
    "# ds = Reader(filename, limit=10000)\n",
    "ds = Reader(filename)\n",
    "varNames = ds.getSeriesNames()"
   ]
  },
  {
   "cell_type": "markdown",
   "metadata": {},
   "source": [
    "Mark variable types"
   ]
  },
  {
   "cell_type": "code",
   "execution_count": 3,
   "metadata": {
    "ExecuteTime": {
     "end_time": "2023-08-09T02:22:03.912548Z",
     "start_time": "2023-08-09T02:22:03.873912Z"
    }
   },
   "outputs": [],
   "source": [
    "numeric = ['age', 'weight', 'height', 'bmi']\n",
    "discreteNum = ['ageGroup', 'income', 'sleephours', 'drinks']\n",
    "catVars = [i for i in varNames if i not in (numeric+discreteNum)]"
   ]
  },
  {
   "cell_type": "code",
   "execution_count": 4,
   "metadata": {
    "ExecuteTime": {
     "end_time": "2023-08-09T02:22:04.335023Z",
     "start_time": "2023-08-09T02:22:04.323277Z"
    }
   },
   "outputs": [
    {
     "data": {
      "text/plain": "['gender',\n 'genhealth',\n 'asthma_ever',\n 'asthma',\n 'skincancer',\n 'othercancer',\n 'copd',\n 'arthritis',\n 'depression',\n 'kidneydis',\n 'diabetes',\n 'maritaldetail',\n 'married',\n 'education',\n 'veteran',\n 'state',\n 'childcnt',\n 'employment',\n 'smokertype',\n 'physicalactivity',\n 'insurance',\n 'checkup',\n 'nohospitalcost',\n 'bmicat']"
     },
     "execution_count": 4,
     "metadata": {},
     "output_type": "execute_result"
    }
   ],
   "source": [
    "catVars"
   ]
  },
  {
   "cell_type": "markdown",
   "metadata": {},
   "source": [
    "Create a probspace with the categorical variables marked as such (important for some to be treated as categorical and not discrete numeric)."
   ]
  },
  {
   "cell_type": "code",
   "execution_count": 5,
   "metadata": {
    "ExecuteTime": {
     "end_time": "2023-08-09T02:22:08.944572Z",
     "start_time": "2023-08-09T02:22:04.379477Z"
    }
   },
   "outputs": [],
   "source": [
    "ps = prob.ProbSpace(ds.varData, categorical=catVars)"
   ]
  },
  {
   "cell_type": "markdown",
   "metadata": {},
   "source": [
    "Throwing all variables in is a bad idea; need to isolate categorical."
   ]
  },
  {
   "cell_type": "code",
   "execution_count": 6,
   "metadata": {
    "ExecuteTime": {
     "end_time": "2023-08-09T02:22:08.956760Z",
     "start_time": "2023-08-09T02:22:08.945397Z"
    }
   },
   "outputs": [],
   "source": [
    "# cdisc.discover(ps)"
   ]
  },
  {
   "cell_type": "markdown",
   "metadata": {},
   "source": [
    "Trying to throw all the cat variables in is still far too much; better off doing a select number at a time.  Limiting the read in to initialize ds helps a little with speed, but seems to throw some strange errors with dependency. Removing the limit seems to remove the errors."
   ]
  },
  {
   "cell_type": "code",
   "execution_count": 7,
   "metadata": {
    "ExecuteTime": {
     "end_time": "2023-08-09T02:22:08.990361Z",
     "start_time": "2023-08-09T02:22:08.964716Z"
    }
   },
   "outputs": [],
   "source": [
    "# cdisc.discover(ps, varNames=catVars)"
   ]
  },
  {
   "cell_type": "markdown",
   "metadata": {},
   "source": [
    "Test direction appropriately calls UCM for the two variables, returns rho value and identifiability."
   ]
  },
  {
   "cell_type": "code",
   "execution_count": 8,
   "metadata": {
    "ExecuteTime": {
     "end_time": "2023-08-09T02:22:09.863013Z",
     "start_time": "2023-08-09T02:22:08.975442Z"
    }
   },
   "outputs": [
    {
     "name": "stdout",
     "output_type": "stream",
     "text": [
      "\n",
      "\tTesting gender -> genhealth direction\n",
      "Using UCM test...\n",
      "\n",
      "\t**P-values** \n",
      "Forward: 0.0 \n",
      "Backward:0.0\n",
      "Rho-value: 0.0\n",
      "identifiable: False\n"
     ]
    },
    {
     "data": {
      "text/plain": "0.0"
     },
     "execution_count": 8,
     "metadata": {},
     "output_type": "execute_result"
    }
   ],
   "source": [
    "ps.testDirection('gender', 'genhealth')"
   ]
  },
  {
   "cell_type": "code",
   "execution_count": 9,
   "metadata": {
    "ExecuteTime": {
     "end_time": "2023-08-09T02:22:10.594721Z",
     "start_time": "2023-08-09T02:22:09.900377Z"
    }
   },
   "outputs": [
    {
     "name": "stdout",
     "output_type": "stream",
     "text": [
      "\n",
      "\tTesting gender -> arthritis direction\n",
      "Using UCM test...\n",
      "\n",
      "\t**P-values** \n",
      "Forward: 0.0 \n",
      "Backward:0.0\n",
      "Rho-value: 0.0\n",
      "identifiable: False\n"
     ]
    },
    {
     "data": {
      "text/plain": "0.0"
     },
     "execution_count": 9,
     "metadata": {},
     "output_type": "execute_result"
    }
   ],
   "source": [
    "ps.testDirection('gender', 'arthritis')"
   ]
  },
  {
   "cell_type": "code",
   "execution_count": 10,
   "metadata": {
    "ExecuteTime": {
     "end_time": "2023-08-09T02:22:11.037539Z",
     "start_time": "2023-08-09T02:22:10.678301Z"
    }
   },
   "outputs": [
    {
     "name": "stdout",
     "output_type": "stream",
     "text": [
      "\n",
      "\tTesting arthritis -> ageGroup direction\n",
      "Using ANM test...\n"
     ]
    },
    {
     "data": {
      "text/plain": "0.09424524027970939"
     },
     "execution_count": 10,
     "metadata": {},
     "output_type": "execute_result"
    }
   ],
   "source": [
    "ps.testDirection('arthritis', 'ageGroup')"
   ]
  },
  {
   "cell_type": "code",
   "execution_count": 11,
   "metadata": {
    "ExecuteTime": {
     "end_time": "2023-08-09T02:22:11.349817Z",
     "start_time": "2023-08-09T02:22:11.044607Z"
    }
   },
   "outputs": [
    {
     "name": "stdout",
     "output_type": "stream",
     "text": [
      "\n",
      "\tTesting genhealth -> ageGroup direction\n",
      "Using ANM test...\n"
     ]
    },
    {
     "data": {
      "text/plain": "0.007960454624064564"
     },
     "execution_count": 11,
     "metadata": {},
     "output_type": "execute_result"
    }
   ],
   "source": [
    "ps.testDirection('genhealth', 'ageGroup')"
   ]
  },
  {
   "cell_type": "code",
   "execution_count": 12,
   "metadata": {
    "ExecuteTime": {
     "end_time": "2023-08-09T02:22:43.109538Z",
     "start_time": "2023-08-09T02:22:11.360418Z"
    }
   },
   "outputs": [
    {
     "name": "stdout",
     "output_type": "stream",
     "text": [
      "    cmodel.show: Performing Discovery.\n",
      "Pass 1 of 3\n",
      "    ageGroup -- gender are independent\n",
      "Pass 2 of 3\n",
      "    ageGroup -- bmicat is blocked by ('arthritis',)\n",
      "      conflicts resolved:  [(0.13255512897523625, ('ageGroup', 'depression', ('bmicat',))), (0.2947662905273777, ('ageGroup', 'bmicat', ('depression',))), (0.3125754111577419, ('bmicat', 'depression', ('ageGroup',)))]\n",
      "    ageGroup -- depression is blocked by ('bmicat',)\n",
      "      conflicts resolved:  [(0.3113418851192863, ('ageGroup', 'bmicat', ('gender',))), (0.347718335927517, ('bmicat', 'gender', ('ageGroup',)))]\n",
      "    ageGroup -- bmicat is blocked by ('gender',)\n",
      "    ageGroup -- depression is blocked by ('gender',)\n",
      "    arthritis -- gender is blocked by ('ageGroup',)\n",
      "      conflicts resolved:  [(0.3625660001978295, ('bmicat', 'gender', ('arthritis',))), (0.4314761560642067, ('arthritis', 'gender', ('bmicat',)))]\n",
      "    bmicat -- gender is blocked by ('arthritis',)\n",
      "    arthritis -- gender is blocked by ('depression',)\n",
      "    bmicat -- depression is blocked by ('arthritis',)\n",
      "      conflicts resolved:  [(0.3198075038027801, ('bmicat', 'gender', ('depression',))), (0.3315620422658016, ('bmicat', 'depression', ('gender',)))]\n",
      "    bmicat -- gender is blocked by ('depression',)\n",
      "Pass 3 of 3\n",
      "Detecting valid links.\n",
      "\n",
      "\tTesting arthritis -> bmicat direction\n",
      "Using UCM test...\n",
      "\n",
      "\t**P-values** \n",
      "Forward: 0.0 \n",
      "Backward:0.0\n",
      "Rho-value: 0.0\n",
      "identifiable: False\n",
      "      cdisc.testDirection: best combo for( arthritis , bmicat ) =  None , rho =  0\n",
      "       cdisc.testDirection: avgRho =  0.0\n",
      "\n",
      "\tTesting arthritis -> depression direction\n",
      "Using UCM test...\n",
      "\n",
      "\t**P-values** \n",
      "Forward: 0.0 \n",
      "Backward:0.0\n",
      "Rho-value: 0.0\n",
      "identifiable: False\n",
      "      cdisc.testDirection: best combo for( arthritis , depression ) =  None , rho =  0\n",
      "       cdisc.testDirection: avgRho =  0.0\n",
      "\n",
      "\tTesting depression -> gender direction\n",
      "Using UCM test...\n",
      "\n",
      "\t**P-values** \n",
      "Forward: 0.0 \n",
      "Backward:0.0\n",
      "Rho-value: 0.0\n",
      "identifiable: False\n",
      "      cdisc.testDirection: best combo for( depression , gender ) =  None , rho =  0\n",
      "       cdisc.testDirection: avgRho =  0.0\n",
      "triangles =  [('arthritis', 'ageGroup', 'bmicat'), ('arthritis', 'ageGroup', 'depression'), ('arthritis', 'bmicat', 'depression'), ('depression', 'arthritis', 'gender')]\n",
      "  cdisc.discover: found causal link: arthritis -> ageGroup ( 0 )\n",
      "  cdisc.discover: found causal link: arthritis -> bmicat ( 0.2 )\n",
      "  cdisc.discover: found causal link: depression -> arthritis ( -0.0 )\n",
      "  cdisc.discover: found causal link: depression -> gender ( 0.2 )\n",
      "  cDisc.discover: Duration =  30.1\n",
      "    cmodel.show: Analyzing Graph Relations.\n",
      "    cmodel.show: Producing graphics.\n",
      "Map = \n",
      "   arthritis --> ageGroup ( 0 )\n",
      "   arthritis --> bmicat ( 0.2 )\n",
      "   depression --> arthritis ( -0.0 )\n",
      "   depression --> gender ( 0.2 )\n",
      "  cmodel.show: Elapsed =  31.0\n"
     ]
    },
    {
     "data": {
      "text/plain": "<Figure size 640x480 with 1 Axes>",
      "image/png": "[encoded data removed]"
     },
     "metadata": {},
     "output_type": "display_data"
    }
   ],
   "source": [
    "cmodel.show(probspace=ps, targetSpec=['arthritis', 'ageGroup', 'gender', 'bmicat', 'depression'], edgeLabels='rho' )\n"
   ]
  },
  {
   "cell_type": "markdown",
   "metadata": {},
   "source": [
    "Code chunk below throws an error described earlier regardless of limit; doesn't like some interaction with dependence testing?"
   ]
  },
  {
   "cell_type": "code",
   "execution_count": 13,
   "metadata": {
    "ExecuteTime": {
     "end_time": "2023-08-09T02:23:30.012420Z",
     "start_time": "2023-08-09T02:22:43.119499Z"
    }
   },
   "outputs": [
    {
     "name": "stdout",
     "output_type": "stream",
     "text": [
      "    cmodel.show: Performing Discovery.\n",
      "Pass 1 of 3\n",
      "    gender -- genhealth are independent\n",
      "Pass 2 of 3\n"
     ]
    },
    {
     "name": "stderr",
     "output_type": "stream",
     "text": [
      "/Library/Python/3.9/site-packages/scipy/stats/_distn_infrastructure.py:2176: RuntimeWarning: divide by zero encountered in divide\n",
      "  x = np.asarray((x - loc)/scale, dtype=dtyp)\n"
     ]
    },
    {
     "name": "stdout",
     "output_type": "stream",
     "text": [
      "0.7435275458130514\n",
      "0.7514361449874603\n",
      "      conflicts resolved:  [(0.18297862754345923, ('drinks', 'physicalactivity', ('genhealth',))), (0.3034432971444816, ('drinks', 'genhealth', ('physicalactivity',)))]\n",
      "    drinks -- physicalactivity is blocked by ('genhealth',)\n",
      "Pass 3 of 3\n"
     ]
    },
    {
     "ename": "AttributeError",
     "evalue": "'NoneType' object has no attribute 'N'",
     "output_type": "error",
     "traceback": [
      "\u001B[0;31m---------------------------------------------------------------------------\u001B[0m",
      "\u001B[0;31mValueError\u001B[0m                                Traceback (most recent call last)",
      "File \u001B[0;32m~/Documents/Causality/Because/because/probability/prob.py:1947\u001B[0m, in \u001B[0;36mProbSpace.dependence\u001B[0;34m(self, rv1, rv2, givenSpecs, power, raw, seed, num_f, num_f2, sensitivity, dMethod)\u001B[0m\n\u001B[1;32m   1946\u001B[0m \u001B[38;5;28;01mtry\u001B[39;00m:\n\u001B[0;32m-> 1947\u001B[0m     (Cxy_z, Sta, p) \u001B[38;5;241m=\u001B[39m \u001B[43mRCoT\u001B[49m\u001B[43m(\u001B[49m\u001B[43mx\u001B[49m\u001B[43m,\u001B[49m\u001B[43m \u001B[49m\u001B[43my\u001B[49m\u001B[43m,\u001B[49m\u001B[43m \u001B[49m\u001B[43mz\u001B[49m\u001B[43m,\u001B[49m\u001B[43m \u001B[49m\u001B[43mnum_f\u001B[49m\u001B[38;5;241;43m=\u001B[39;49m\u001B[43mnum_f\u001B[49m\u001B[43m,\u001B[49m\u001B[43m \u001B[49m\u001B[43mnum_f2\u001B[49m\u001B[38;5;241;43m=\u001B[39;49m\u001B[43mnum_f2\u001B[49m\u001B[43m,\u001B[49m\u001B[43m \u001B[49m\u001B[43mseed\u001B[49m\u001B[38;5;241;43m=\u001B[39;49m\u001B[43mseed\u001B[49m\u001B[43m)\u001B[49m\n\u001B[1;32m   1948\u001B[0m \u001B[38;5;28;01mexcept\u001B[39;00m:\n",
      "File \u001B[0;32m/Library/Python/3.9/site-packages/because/probability/rcot/RCoT.py:282\u001B[0m, in \u001B[0;36mRCoT\u001B[0;34m(x, y, z, approx, num_f, num_f2, r, seed)\u001B[0m\n\u001B[1;32m    281\u001B[0m w1 \u001B[38;5;241m=\u001B[39m w\n\u001B[0;32m--> 282\u001B[0m p \u001B[38;5;241m=\u001B[39m \u001B[38;5;241m1\u001B[39m \u001B[38;5;241m-\u001B[39m \u001B[43mlpb4\u001B[49m\u001B[43m(\u001B[49m\u001B[43mnp\u001B[49m\u001B[38;5;241;43m.\u001B[39;49m\u001B[43marray\u001B[49m\u001B[43m(\u001B[49m\u001B[43mw1\u001B[49m\u001B[43m)\u001B[49m\u001B[43m,\u001B[49m\u001B[43m \u001B[49m\u001B[43mSta\u001B[49m\u001B[43m)\u001B[49m\n\u001B[1;32m    283\u001B[0m \u001B[38;5;28;01mif\u001B[39;00m(p\u001B[38;5;241m==\u001B[39m\u001B[38;5;28;01mNone\u001B[39;00m \u001B[38;5;129;01mor\u001B[39;00m np\u001B[38;5;241m.\u001B[39misnan(p)):\n",
      "File \u001B[0;32m/Library/Python/3.9/site-packages/because/probability/rcot/lpb4.py:97\u001B[0m, in \u001B[0;36mlpb4\u001B[0;34m(coeff, x)\u001B[0m\n\u001B[1;32m     96\u001B[0m bisect_tol \u001B[38;5;241m=\u001B[39m \u001B[38;5;241m1e-6\u001B[39m\n\u001B[0;32m---> 97\u001B[0m lambdatilde_p \u001B[38;5;241m=\u001B[39m \u001B[43mget_lambdatilde_p\u001B[49m\u001B[43m(\u001B[49m\u001B[43mlambdatilde_1\u001B[49m\u001B[43m,\u001B[49m\u001B[43m \u001B[49m\u001B[43mp\u001B[49m\u001B[43m,\u001B[49m\u001B[43m \u001B[49m\u001B[43mmoment_vec\u001B[49m\u001B[43m,\u001B[49m\u001B[43m \u001B[49m\u001B[43mbisect_tol\u001B[49m\u001B[43m)\u001B[49m\n\u001B[1;32m     98\u001B[0m \u001B[38;5;66;03m# print(\"lambdatilde_p \",lambdatilde_p )\u001B[39;00m\n",
      "File \u001B[0;32m/Library/Python/3.9/site-packages/because/probability/rcot/lpb4.py:196\u001B[0m, in \u001B[0;36mget_lambdatilde_p\u001B[0;34m(lambdatilde_1, p, moment_vec, bisect_tol)\u001B[0m\n\u001B[1;32m    192\u001B[0m     \u001B[38;5;28;01mfor\u001B[39;00m i \u001B[38;5;129;01min\u001B[39;00m \u001B[38;5;28mrange\u001B[39m(\u001B[38;5;241m1\u001B[39m,p):\n\u001B[1;32m    193\u001B[0m         \u001B[38;5;66;03m#TODO: uniroot, root\u001B[39;00m\n\u001B[1;32m    194\u001B[0m         \u001B[38;5;66;03m# print(i) \u001B[39;00m\n\u001B[1;32m    195\u001B[0m         \u001B[38;5;66;03m# print(\"lambdatilde_vec[i-1]: \", lambdatilde_vec[i-1])\u001B[39;00m\n\u001B[0;32m--> 196\u001B[0m         lambdatilde_vec[i] \u001B[38;5;241m=\u001B[39m \u001B[43muniroot\u001B[49m\u001B[43m(\u001B[49m\u001B[43mdet_deltamat_n\u001B[49m\u001B[43m,\u001B[49m\u001B[43m \u001B[49m\u001B[43m[\u001B[49m\u001B[38;5;241;43m0\u001B[39;49m\u001B[43m,\u001B[49m\u001B[43m \u001B[49m\u001B[43mlambdatilde_vec\u001B[49m\u001B[43m[\u001B[49m\u001B[43mi\u001B[49m\u001B[38;5;241;43m-\u001B[39;49m\u001B[38;5;241;43m1\u001B[39;49m\u001B[43m]\u001B[49m\u001B[43m]\u001B[49m\u001B[43m,\u001B[49m\u001B[43m \u001B[49m\u001B[43mm_vec\u001B[49m\u001B[38;5;241;43m=\u001B[39;49m\u001B[43mmoment_vec\u001B[49m\u001B[43m,\u001B[49m\u001B[43m \u001B[49m\u001B[43mN\u001B[49m\u001B[38;5;241;43m=\u001B[39;49m\u001B[43mi\u001B[49m\u001B[38;5;241;43m+\u001B[39;49m\u001B[38;5;241;43m1\u001B[39;49m\u001B[43m,\u001B[49m\u001B[43m \u001B[49m\u001B[43mtol\u001B[49m\u001B[38;5;241;43m=\u001B[39;49m\u001B[43mbisect_tol\u001B[49m\u001B[43m)\u001B[49m\n\u001B[1;32m    197\u001B[0m lambdatilde_p \u001B[38;5;241m=\u001B[39m lambdatilde_vec[p\u001B[38;5;241m-\u001B[39m\u001B[38;5;241m1\u001B[39m]\n",
      "File \u001B[0;32m/Library/Python/3.9/site-packages/because/probability/rcot/lpb4.py:59\u001B[0m, in \u001B[0;36muniroot\u001B[0;34m(fun, limit, m_vec, N, tol)\u001B[0m\n\u001B[1;32m     58\u001B[0m \u001B[38;5;28;01mfrom\u001B[39;00m \u001B[38;5;21;01mscipy\u001B[39;00m\u001B[38;5;21;01m.\u001B[39;00m\u001B[38;5;21;01moptimize\u001B[39;00m \u001B[38;5;28;01mimport\u001B[39;00m brentq \u001B[38;5;28;01mas\u001B[39;00m root\n\u001B[0;32m---> 59\u001B[0m x \u001B[38;5;241m=\u001B[39m \u001B[43mroot\u001B[49m\u001B[43m(\u001B[49m\u001B[43mfun\u001B[49m\u001B[43m,\u001B[49m\u001B[43mlimit\u001B[49m\u001B[43m[\u001B[49m\u001B[38;5;241;43m0\u001B[39;49m\u001B[43m]\u001B[49m\u001B[43m,\u001B[49m\u001B[43mlimit\u001B[49m\u001B[43m[\u001B[49m\u001B[38;5;241;43m1\u001B[39;49m\u001B[43m]\u001B[49m\u001B[43m,\u001B[49m\u001B[43m \u001B[49m\u001B[43margs\u001B[49m\u001B[38;5;241;43m=\u001B[39;49m\u001B[43m(\u001B[49m\u001B[43mm_vec\u001B[49m\u001B[43m,\u001B[49m\u001B[43m \u001B[49m\u001B[43mN\u001B[49m\u001B[43m)\u001B[49m\u001B[43m,\u001B[49m\u001B[43m \u001B[49m\u001B[43mxtol\u001B[49m\u001B[38;5;241;43m=\u001B[39;49m\u001B[43mtol\u001B[49m\u001B[43m)\u001B[49m\n\u001B[1;32m     60\u001B[0m \u001B[38;5;28;01mreturn\u001B[39;00m x\n",
      "File \u001B[0;32m/Library/Python/3.9/site-packages/scipy/optimize/_zeros_py.py:784\u001B[0m, in \u001B[0;36mbrentq\u001B[0;34m(f, a, b, args, xtol, rtol, maxiter, full_output, disp)\u001B[0m\n\u001B[1;32m    783\u001B[0m     \u001B[38;5;28;01mraise\u001B[39;00m \u001B[38;5;167;01mValueError\u001B[39;00m(\u001B[38;5;124m\"\u001B[39m\u001B[38;5;124mrtol too small (\u001B[39m\u001B[38;5;132;01m%g\u001B[39;00m\u001B[38;5;124m < \u001B[39m\u001B[38;5;132;01m%g\u001B[39;00m\u001B[38;5;124m)\u001B[39m\u001B[38;5;124m\"\u001B[39m \u001B[38;5;241m%\u001B[39m (rtol, _rtol))\n\u001B[0;32m--> 784\u001B[0m r \u001B[38;5;241m=\u001B[39m \u001B[43m_zeros\u001B[49m\u001B[38;5;241;43m.\u001B[39;49m\u001B[43m_brentq\u001B[49m\u001B[43m(\u001B[49m\u001B[43mf\u001B[49m\u001B[43m,\u001B[49m\u001B[43m \u001B[49m\u001B[43ma\u001B[49m\u001B[43m,\u001B[49m\u001B[43m \u001B[49m\u001B[43mb\u001B[49m\u001B[43m,\u001B[49m\u001B[43m \u001B[49m\u001B[43mxtol\u001B[49m\u001B[43m,\u001B[49m\u001B[43m \u001B[49m\u001B[43mrtol\u001B[49m\u001B[43m,\u001B[49m\u001B[43m \u001B[49m\u001B[43mmaxiter\u001B[49m\u001B[43m,\u001B[49m\u001B[43m \u001B[49m\u001B[43margs\u001B[49m\u001B[43m,\u001B[49m\u001B[43m \u001B[49m\u001B[43mfull_output\u001B[49m\u001B[43m,\u001B[49m\u001B[43m \u001B[49m\u001B[43mdisp\u001B[49m\u001B[43m)\u001B[49m\n\u001B[1;32m    785\u001B[0m \u001B[38;5;28;01mreturn\u001B[39;00m results_c(full_output, r)\n",
      "\u001B[0;31mValueError\u001B[0m: f(a) and f(b) must have different signs",
      "\nDuring handling of the above exception, another exception occurred:\n",
      "\u001B[0;31mAttributeError\u001B[0m                            Traceback (most recent call last)",
      "Cell \u001B[0;32mIn[13], line 1\u001B[0m\n\u001B[0;32m----> 1\u001B[0m \u001B[43mcmodel\u001B[49m\u001B[38;5;241;43m.\u001B[39;49m\u001B[43mshow\u001B[49m\u001B[43m(\u001B[49m\u001B[43mprobspace\u001B[49m\u001B[38;5;241;43m=\u001B[39;49m\u001B[43mps\u001B[49m\u001B[43m,\u001B[49m\u001B[43m \u001B[49m\u001B[43mtargetSpec\u001B[49m\u001B[38;5;241;43m=\u001B[39;49m\u001B[43m[\u001B[49m\u001B[38;5;124;43m'\u001B[39;49m\u001B[38;5;124;43mgenhealth\u001B[39;49m\u001B[38;5;124;43m'\u001B[39;49m\u001B[43m,\u001B[49m\u001B[43m \u001B[49m\u001B[38;5;124;43m'\u001B[39;49m\u001B[38;5;124;43mgender\u001B[39;49m\u001B[38;5;124;43m'\u001B[39;49m\u001B[43m,\u001B[49m\u001B[43m \u001B[49m\u001B[38;5;124;43m'\u001B[39;49m\u001B[38;5;124;43mdrinks\u001B[39;49m\u001B[38;5;124;43m'\u001B[39;49m\u001B[43m,\u001B[49m\u001B[38;5;124;43m'\u001B[39;49m\u001B[38;5;124;43mphysicalactivity\u001B[39;49m\u001B[38;5;124;43m'\u001B[39;49m\u001B[43m]\u001B[49m\u001B[43m,\u001B[49m\u001B[43m \u001B[49m\u001B[43medgeLabels\u001B[49m\u001B[38;5;241;43m=\u001B[39;49m\u001B[38;5;124;43m'\u001B[39;49m\u001B[38;5;124;43mrho\u001B[39;49m\u001B[38;5;124;43m'\u001B[39;49m\u001B[43m)\u001B[49m\n",
      "File \u001B[0;32m~/Documents/Causality/Because/because/visualization/cmodel.py:67\u001B[0m, in \u001B[0;36mshow\u001B[0;34m(dataPath, numRecs, targetSpec, condSpec, controlFor, gtype, probspace, cg, edgeLabels, enhance, power, maxLevel, sensitivity, verbosity)\u001B[0m\n\u001B[1;32m     65\u001B[0m     vprint(\u001B[38;5;241m3\u001B[39m, verbosity, \u001B[38;5;124m'\u001B[39m\u001B[38;5;124mcmodel.show: Performing Discovery.\u001B[39m\u001B[38;5;124m'\u001B[39m)\n\u001B[1;32m     66\u001B[0m     \u001B[38;5;66;03m# If we didn't get a cgraph, discover one.\u001B[39;00m\n\u001B[0;32m---> 67\u001B[0m     cg \u001B[38;5;241m=\u001B[39m \u001B[43mcdisc\u001B[49m\u001B[38;5;241;43m.\u001B[39;49m\u001B[43mdiscover\u001B[49m\u001B[43m(\u001B[49m\u001B[43mprob1\u001B[49m\u001B[43m,\u001B[49m\u001B[43m \u001B[49m\u001B[43mvarNames\u001B[49m\u001B[38;5;241;43m=\u001B[39;49m\u001B[43mtargets\u001B[49m\u001B[43m,\u001B[49m\u001B[43m \u001B[49m\u001B[43mmaxLevel\u001B[49m\u001B[38;5;241;43m=\u001B[39;49m\u001B[43mmaxLevel\u001B[49m\u001B[43m,\u001B[49m\u001B[43m \u001B[49m\u001B[43mpower\u001B[49m\u001B[38;5;241;43m=\u001B[39;49m\u001B[43mpower\u001B[49m\u001B[43m,\u001B[49m\u001B[43m \u001B[49m\u001B[43msensitivity\u001B[49m\u001B[38;5;241;43m=\u001B[39;49m\u001B[43msensitivity\u001B[49m\u001B[43m,\u001B[49m\u001B[43m \u001B[49m\u001B[43mverbosity\u001B[49m\u001B[38;5;241;43m=\u001B[39;49m\u001B[43mverbosity\u001B[49m\u001B[43m)\u001B[49m\n\u001B[1;32m     69\u001B[0m edges \u001B[38;5;241m=\u001B[39m []\n\u001B[1;32m     70\u001B[0m edgeLabelDict \u001B[38;5;241m=\u001B[39m {}\n",
      "File \u001B[0;32m~/Documents/Causality/Because/because/causality/cdisc.py:251\u001B[0m, in \u001B[0;36mdiscover\u001B[0;34m(ps, varNames, maxLevel, power, sensitivity, verbosity)\u001B[0m\n\u001B[1;32m    248\u001B[0m \u001B[38;5;66;03m# print(f\"Calculating indeps: {v1}, {v2}\")\u001B[39;00m\n\u001B[1;32m    249\u001B[0m indeps \u001B[38;5;241m=\u001B[39m calc_indeps\u001B[38;5;241m.\u001B[39mcalculateOne(ps, v1, v2, varNames\u001B[38;5;241m=\u001B[39mmediaries,\n\u001B[1;32m    250\u001B[0m             minLevel\u001B[38;5;241m=\u001B[39mlevel, maxLevel\u001B[38;5;241m=\u001B[39mlevel, power\u001B[38;5;241m=\u001B[39mpower, sensitivity\u001B[38;5;241m=\u001B[39msensitivity)\n\u001B[0;32m--> 251\u001B[0m \u001B[38;5;28;01mfor\u001B[39;00m indep \u001B[38;5;129;01min\u001B[39;00m indeps:\n\u001B[1;32m    252\u001B[0m     \u001B[38;5;66;03m# If we find any independencies, direct or conditional, mark it as not causal.\u001B[39;00m\n\u001B[1;32m    253\u001B[0m     spec, isInd \u001B[38;5;241m=\u001B[39m indep\n\u001B[1;32m    254\u001B[0m     \u001B[38;5;28;01mif\u001B[39;00m isInd:\n",
      "File \u001B[0;32m~/Documents/Causality/Because/because/causality/calc_indeps.py:54\u001B[0m, in \u001B[0;36mcalculateOne\u001B[0;34m(ps, v1, v2, varNames, minLevel, maxLevel, sensitivity, power)\u001B[0m\n\u001B[1;32m     52\u001B[0m \u001B[38;5;66;03m#print('calculateOne: v1, v2, conds = ', v1, v2, conds)\u001B[39;00m\n\u001B[1;32m     53\u001B[0m num_f \u001B[38;5;241m=\u001B[39m \u001B[38;5;241m100\u001B[39m \u001B[38;5;28;01mif\u001B[39;00m \u001B[38;5;28mlen\u001B[39m(conds) \u001B[38;5;241m==\u001B[39m \u001B[38;5;241m0\u001B[39m \u001B[38;5;28;01melse\u001B[39;00m \u001B[38;5;241m100\u001B[39m \u001B[38;5;241m*\u001B[39m \u001B[38;5;28mlen\u001B[39m(conds)\n\u001B[0;32m---> 54\u001B[0m \u001B[38;5;28;01mif\u001B[39;00m \u001B[43mps\u001B[49m\u001B[38;5;241;43m.\u001B[39;49m\u001B[43misIndependent\u001B[49m\u001B[43m(\u001B[49m\u001B[43mv1\u001B[49m\u001B[43m,\u001B[49m\u001B[43m \u001B[49m\u001B[43mv2\u001B[49m\u001B[43m,\u001B[49m\u001B[43m \u001B[49m\u001B[43mconds\u001B[49m\u001B[43m,\u001B[49m\u001B[43m \u001B[49m\u001B[43mpower\u001B[49m\u001B[38;5;241;43m=\u001B[39;49m\u001B[43mpower\u001B[49m\u001B[43m,\u001B[49m\u001B[43m \u001B[49m\u001B[43msensitivity\u001B[49m\u001B[38;5;241;43m=\u001B[39;49m\u001B[43msensitivity\u001B[49m\u001B[43m,\u001B[49m\u001B[43m \u001B[49m\u001B[43mnum_f\u001B[49m\u001B[38;5;241;43m=\u001B[39;49m\u001B[43mnum_f\u001B[49m\u001B[43m,\u001B[49m\u001B[43m \u001B[49m\u001B[43mseed\u001B[49m\u001B[38;5;241;43m=\u001B[39;49m\u001B[38;5;241;43m1\u001B[39;49m\u001B[43m)\u001B[49m:\n\u001B[1;32m     55\u001B[0m     \u001B[38;5;28;01myield\u001B[39;00m(item, \u001B[38;5;28;01mTrue\u001B[39;00m)\n\u001B[1;32m     56\u001B[0m \u001B[38;5;28;01melse\u001B[39;00m:\n",
      "File \u001B[0;32m~/Documents/Causality/Because/because/probability/prob.py:2100\u001B[0m, in \u001B[0;36mProbSpace.isIndependent\u001B[0;34m(self, rv1, rv2, givenSpecs, power, seed, num_f, num_f2, sensitivity, dMethod)\u001B[0m\n\u001B[1;32m   2096\u001B[0m \u001B[38;5;250m\u001B[39m\u001B[38;5;124;03m\"\"\" Determines if two variables are independent, optionally given a set of givens.\u001B[39;00m\n\u001B[1;32m   2097\u001B[0m \u001B[38;5;124;03m    Returns True if independent, otherwise False\u001B[39;00m\n\u001B[1;32m   2098\u001B[0m \u001B[38;5;124;03m\"\"\"\u001B[39;00m\n\u001B[1;32m   2099\u001B[0m \u001B[38;5;66;03m# print(f\"Testing isIndependent(prob): {rv1}, {rv2}\")\u001B[39;00m\n\u001B[0;32m-> 2100\u001B[0m ind \u001B[38;5;241m=\u001B[39m \u001B[38;5;28;43mself\u001B[39;49m\u001B[38;5;241;43m.\u001B[39;49m\u001B[43mindependence\u001B[49m\u001B[43m(\u001B[49m\u001B[43mrv1\u001B[49m\u001B[43m,\u001B[49m\u001B[43m \u001B[49m\u001B[43mrv2\u001B[49m\u001B[43m,\u001B[49m\u001B[43m \u001B[49m\u001B[43mgivenSpecs\u001B[49m\u001B[43m \u001B[49m\u001B[38;5;241;43m=\u001B[39;49m\u001B[43m \u001B[49m\u001B[43mgivenSpecs\u001B[49m\u001B[43m,\u001B[49m\u001B[43m \u001B[49m\u001B[43mpower\u001B[49m\u001B[43m \u001B[49m\u001B[38;5;241;43m=\u001B[39;49m\u001B[43m \u001B[49m\u001B[43mpower\u001B[49m\u001B[43m,\u001B[49m\u001B[43m \u001B[49m\u001B[43mseed\u001B[49m\u001B[38;5;241;43m=\u001B[39;49m\u001B[43mseed\u001B[49m\u001B[43m,\u001B[49m\u001B[43m \u001B[49m\u001B[43mnum_f\u001B[49m\u001B[38;5;241;43m=\u001B[39;49m\u001B[43mnum_f\u001B[49m\u001B[43m,\u001B[49m\u001B[43m \u001B[49m\u001B[43mnum_f2\u001B[49m\u001B[38;5;241;43m=\u001B[39;49m\u001B[43mnum_f2\u001B[49m\u001B[43m,\u001B[49m\n\u001B[1;32m   2101\u001B[0m \u001B[43m                      \u001B[49m\u001B[43msensitivity\u001B[49m\u001B[38;5;241;43m=\u001B[39;49m\u001B[43msensitivity\u001B[49m\u001B[43m,\u001B[49m\u001B[43m \u001B[49m\u001B[43mdMethod\u001B[49m\u001B[38;5;241;43m=\u001B[39;49m\u001B[43mdMethod\u001B[49m\u001B[43m)\u001B[49m\n\u001B[1;32m   2102\u001B[0m \u001B[38;5;66;03m# Use .5 (50% confidence as threshold.\u001B[39;00m\n\u001B[1;32m   2103\u001B[0m \u001B[38;5;28;01mreturn\u001B[39;00m ind \u001B[38;5;241m>\u001B[39m \u001B[38;5;241m.5\u001B[39m\n",
      "File \u001B[0;32m~/Documents/Causality/Because/because/probability/prob.py:2088\u001B[0m, in \u001B[0;36mProbSpace.independence\u001B[0;34m(self, rv1, rv2, givenSpecs, power, seed, num_f, num_f2, sensitivity, dMethod)\u001B[0m\n\u001B[1;32m   2077\u001B[0m \u001B[38;5;28;01mdef\u001B[39;00m \u001B[38;5;21mindependence\u001B[39m(\u001B[38;5;28mself\u001B[39m, rv1, rv2, givenSpecs\u001B[38;5;241m=\u001B[39m[], power\u001B[38;5;241m=\u001B[39m\u001B[38;5;28;01mNone\u001B[39;00m, seed\u001B[38;5;241m=\u001B[39m\u001B[38;5;28;01mNone\u001B[39;00m, num_f\u001B[38;5;241m=\u001B[39m\u001B[38;5;241m100\u001B[39m, num_f2\u001B[38;5;241m=\u001B[39m\u001B[38;5;241m5\u001B[39m, sensitivity\u001B[38;5;241m=\u001B[39m\u001B[38;5;241m5\u001B[39m,\n\u001B[1;32m   2078\u001B[0m                  dMethod\u001B[38;5;241m=\u001B[39m\u001B[38;5;124m'\u001B[39m\u001B[38;5;124mrcot\u001B[39m\u001B[38;5;124m'\u001B[39m):\n\u001B[1;32m   2079\u001B[0m \u001B[38;5;250m    \u001B[39m\u001B[38;5;124;03m\"\"\"\u001B[39;00m\n\u001B[1;32m   2080\u001B[0m \u001B[38;5;124;03m        Calculate the independence between two variables, and an optional set of givens.\u001B[39;00m\n\u001B[1;32m   2081\u001B[0m \u001B[38;5;124;03m        This is a heuristic inversion\u001B[39;00m\n\u001B[0;32m   (...)\u001B[0m\n\u001B[1;32m   2086\u001B[0m \u001B[38;5;124;03m        TO DO: Calibrate to an exact p-value.\u001B[39;00m\n\u001B[1;32m   2087\u001B[0m \u001B[38;5;124;03m    \"\"\"\u001B[39;00m\n\u001B[0;32m-> 2088\u001B[0m     dep \u001B[38;5;241m=\u001B[39m \u001B[38;5;28;43mself\u001B[39;49m\u001B[38;5;241;43m.\u001B[39;49m\u001B[43mdependence\u001B[49m\u001B[43m(\u001B[49m\u001B[43mrv1\u001B[49m\u001B[43m,\u001B[49m\u001B[43m \u001B[49m\u001B[43mrv2\u001B[49m\u001B[43m,\u001B[49m\u001B[43m \u001B[49m\u001B[43mgivenSpecs\u001B[49m\u001B[38;5;241;43m=\u001B[39;49m\u001B[43mgivenSpecs\u001B[49m\u001B[43m,\u001B[49m\u001B[43m \u001B[49m\u001B[43mpower\u001B[49m\u001B[38;5;241;43m=\u001B[39;49m\u001B[43mpower\u001B[49m\u001B[43m,\u001B[49m\u001B[43m \u001B[49m\u001B[43mseed\u001B[49m\u001B[38;5;241;43m=\u001B[39;49m\u001B[43mseed\u001B[49m\u001B[43m,\u001B[49m\u001B[43m \u001B[49m\u001B[43mnum_f\u001B[49m\u001B[38;5;241;43m=\u001B[39;49m\u001B[43mnum_f\u001B[49m\u001B[43m,\u001B[49m\u001B[43m \u001B[49m\u001B[43mnum_f2\u001B[49m\u001B[38;5;241;43m=\u001B[39;49m\u001B[43mnum_f2\u001B[49m\u001B[43m,\u001B[49m\n\u001B[1;32m   2089\u001B[0m \u001B[43m                          \u001B[49m\u001B[43msensitivity\u001B[49m\u001B[38;5;241;43m=\u001B[39;49m\u001B[43msensitivity\u001B[49m\u001B[43m,\u001B[49m\u001B[43m \u001B[49m\u001B[43mdMethod\u001B[49m\u001B[38;5;241;43m=\u001B[39;49m\u001B[43mdMethod\u001B[49m\u001B[43m)\u001B[49m\n\u001B[1;32m   2090\u001B[0m     ind \u001B[38;5;241m=\u001B[39m \u001B[38;5;241m1\u001B[39m \u001B[38;5;241m-\u001B[39m dep\n\u001B[1;32m   2091\u001B[0m     \u001B[38;5;28;01mreturn\u001B[39;00m ind\n",
      "File \u001B[0;32m~/Documents/Causality/Because/because/probability/prob.py:1951\u001B[0m, in \u001B[0;36mProbSpace.dependence\u001B[0;34m(self, rv1, rv2, givenSpecs, power, raw, seed, num_f, num_f2, sensitivity, dMethod)\u001B[0m\n\u001B[1;32m   1949\u001B[0m         \u001B[38;5;28;01mif\u001B[39;00m DEBUG:\n\u001B[1;32m   1950\u001B[0m             \u001B[38;5;28mprint\u001B[39m(\u001B[38;5;124m'\u001B[39m\u001B[38;5;124mProbSpace.dependence: RCoT Failed.  Using discrete method:\u001B[39m\u001B[38;5;124m'\u001B[39m, rv1, rv2, givenSpecs)\n\u001B[0;32m-> 1951\u001B[0m         \u001B[38;5;28;01mreturn\u001B[39;00m \u001B[38;5;28;43mself\u001B[39;49m\u001B[38;5;241;43m.\u001B[39;49m\u001B[43mdependence\u001B[49m\u001B[43m(\u001B[49m\u001B[43mrv1\u001B[49m\u001B[43m,\u001B[49m\u001B[43m \u001B[49m\u001B[43mrv2\u001B[49m\u001B[43m,\u001B[49m\u001B[43m \u001B[49m\u001B[43mgivenSpecs\u001B[49m\u001B[43m,\u001B[49m\u001B[43m \u001B[49m\u001B[43mpower\u001B[49m\u001B[38;5;241;43m=\u001B[39;49m\u001B[43mpower\u001B[49m\u001B[43m,\u001B[49m\u001B[43mdMethod\u001B[49m\u001B[38;5;241;43m=\u001B[39;49m\u001B[38;5;124;43m'\u001B[39;49m\u001B[38;5;124;43md\u001B[39;49m\u001B[38;5;124;43m'\u001B[39;49m\u001B[43m)\u001B[49m\n\u001B[1;32m   1952\u001B[0m \u001B[38;5;66;03m#assert 1 <= sensitivity <= 10, \"sensitivity should be from range [1, 10]\"\u001B[39;00m\n\u001B[1;32m   1953\u001B[0m \u001B[38;5;28;01mif\u001B[39;00m sensitivity \u001B[38;5;241m>\u001B[39m\u001B[38;5;241m=\u001B[39m \u001B[38;5;241m10\u001B[39m:\n\u001B[1;32m   1954\u001B[0m     \u001B[38;5;66;03m# Use 0.99 as threshold to determine whether a pair of variables are dependent\u001B[39;00m\n",
      "File \u001B[0;32m~/Documents/Causality/Because/because/probability/prob.py:2008\u001B[0m, in \u001B[0;36mProbSpace.dependence\u001B[0;34m(self, rv1, rv2, givenSpecs, power, raw, seed, num_f, num_f2, sensitivity, dMethod)\u001B[0m\n\u001B[1;32m   2005\u001B[0m     \u001B[38;5;28;01melse\u001B[39;00m:\n\u001B[1;32m   2006\u001B[0m         \u001B[38;5;66;03m# Otherwise use the previously computed prob1\u001B[39;00m\n\u001B[1;32m   2007\u001B[0m         prob1 \u001B[38;5;241m=\u001B[39m prevProb1\n\u001B[0;32m-> 2008\u001B[0m \u001B[38;5;28;01mif\u001B[39;00m \u001B[43mprob1\u001B[49m\u001B[38;5;241;43m.\u001B[39;49m\u001B[43mN\u001B[49m \u001B[38;5;241m<\u001B[39m\u001B[38;5;241m=\u001B[39m \u001B[38;5;241m1\u001B[39m:\n\u001B[1;32m   2009\u001B[0m     \u001B[38;5;66;03m#print('Empty distribution: ', spec)\u001B[39;00m\n\u001B[1;32m   2010\u001B[0m     \u001B[38;5;28;01mcontinue\u001B[39;00m\n\u001B[1;32m   2011\u001B[0m \u001B[38;5;66;03m#print('ss1.N = ', ss1.N)\u001B[39;00m\n",
      "\u001B[0;31mAttributeError\u001B[0m: 'NoneType' object has no attribute 'N'"
     ]
    },
    {
     "data": {
      "text/plain": "<Figure size 640x480 with 1 Axes>",
      "image/png": "[encoded data removed]"
     },
     "metadata": {},
     "output_type": "display_data"
    }
   ],
   "source": [
    "cmodel.show(probspace=ps, targetSpec=['genhealth', 'gender', 'drinks','physicalactivity'], edgeLabels='rho')\n"
   ]
  },
  {
   "cell_type": "markdown",
   "metadata": {},
   "source": [
    "Discovery works ok with just a couple variables. May try to do discovery by just running through pairs with testDirection though."
   ]
  },
  {
   "cell_type": "code",
   "execution_count": 14,
   "metadata": {
    "ExecuteTime": {
     "end_time": "2023-08-09T02:23:55.208615Z",
     "start_time": "2023-08-09T02:23:52.961234Z"
    }
   },
   "outputs": [
    {
     "name": "stdout",
     "output_type": "stream",
     "text": [
      "Pass 1 of 3\n",
      "Pass 2 of 3\n",
      "Pass 3 of 3\n",
      "Detecting valid links.\n",
      "\n",
      "\tTesting physicalactivity -> gender direction\n",
      "Using UCM test...\n",
      "\n",
      "\t**P-values** \n",
      "Forward: 0.0 \n",
      "Backward:0.0\n",
      "Rho-value: 0.0\n",
      "identifiable: False\n",
      "triangles =  []\n",
      "  cdisc.discover: found causal link: gender -> physicalactivity ( -0.0 )\n",
      "  cDisc.discover: Duration =  2.4\n"
     ]
    },
    {
     "data": {
      "text/plain": "<causality.cgraph.cGraph at 0x137f6b3d0>"
     },
     "execution_count": 14,
     "metadata": {},
     "output_type": "execute_result"
    }
   ],
   "source": [
    "cdisc.discover(ps, varNames=['physicalactivity', 'gender'])"
   ]
  },
  {
   "cell_type": "markdown",
   "metadata": {},
   "source": [
    "Try with subspace. Condition across each age group; test gender and arthritis for each age group."
   ]
  },
  {
   "cell_type": "code",
   "execution_count": 15,
   "metadata": {
    "ExecuteTime": {
     "end_time": "2023-08-09T02:23:58.253332Z",
     "start_time": "2023-08-09T02:23:57.547731Z"
    }
   },
   "outputs": [
    {
     "name": "stdout",
     "output_type": "stream",
     "text": [
      "\n",
      "\tTesting gender -> arthritis direction\n",
      "Using UCM test...\n",
      "\n",
      "\t**P-values** \n",
      "Forward: 3.08708614227271e-11 \n",
      "Backward:0.0251559686680477\n",
      "Rho-value: -0.02515596863717684\n",
      "identifiable: False\n"
     ]
    },
    {
     "data": {
      "text/plain": "-0.02515596863717684"
     },
     "execution_count": 15,
     "metadata": {},
     "output_type": "execute_result"
    }
   ],
   "source": [
    "ss = ps.SubSpace([('ageGroup', 1)])\n",
    "ss.testDirection('gender', 'arthritis')"
   ]
  },
  {
   "cell_type": "code",
   "execution_count": 17,
   "metadata": {
    "ExecuteTime": {
     "end_time": "2023-08-09T02:24:16.661252Z",
     "start_time": "2023-08-09T02:24:10.830539Z"
    }
   },
   "outputs": [
    {
     "name": "stdout",
     "output_type": "stream",
     "text": [
      "\n",
      "\tTesting gender -> arthritis direction\n",
      "Using UCM test...\n",
      "\n",
      "\t**P-values** \n",
      "Forward: 3.08708614227271e-11 \n",
      "Backward:0.0251559686680477\n",
      "Rho-value: -0.02515596863717684\n",
      "identifiable: False\n",
      "-0.02515596863717684 <built-in function id>\n",
      "\n",
      "\tTesting gender -> arthritis direction\n",
      "Using UCM test...\n",
      "\n",
      "\t**P-values** \n",
      "Forward: 0.0 \n",
      "Backward:4.9960036108132044e-15\n",
      "Rho-value: -4.9960036108132044e-15\n",
      "identifiable: False\n",
      "-4.9960036108132044e-15 <built-in function id>\n",
      "\n",
      "\tTesting gender -> arthritis direction\n",
      "Using UCM test...\n",
      "\n",
      "\t**P-values** \n",
      "Forward: 0.0 \n",
      "Backward:0.0\n",
      "Rho-value: 0.0\n",
      "identifiable: False\n",
      "0.0 <built-in function id>\n",
      "\n",
      "\tTesting gender -> arthritis direction\n",
      "Using UCM test...\n",
      "\n",
      "\t**P-values** \n",
      "Forward: 0.0 \n",
      "Backward:0.0\n",
      "Rho-value: 0.0\n",
      "identifiable: False\n",
      "0.0 <built-in function id>\n",
      "\n",
      "\tTesting gender -> arthritis direction\n",
      "Using UCM test...\n",
      "\n",
      "\t**P-values** \n",
      "Forward: 0.0 \n",
      "Backward:0.0\n",
      "Rho-value: 0.0\n",
      "identifiable: False\n",
      "0.0 <built-in function id>\n",
      "\n",
      "\tTesting gender -> arthritis direction\n",
      "Using UCM test...\n",
      "\n",
      "\t**P-values** \n",
      "Forward: 0.2002435392979206 \n",
      "Backward:0.0\n",
      "Rho-value: 0.2002435392979206\n",
      "identifiable: True\n",
      "0.2002435392979206 <built-in function id>\n"
     ]
    }
   ],
   "source": [
    "# ageGroup values: {1,2,3,4,5,6}\n",
    "for i in range(6):\n",
    "    ss = ps.SubSpace([('ageGroup', i+1)])\n",
    "    rho= ss.testDirection('gender', 'arthritis')\n",
    "    print(rho, id)"
   ]
  },
  {
   "cell_type": "markdown",
   "metadata": {},
   "source": [
    "Seems like conditioning on ageGroup using subspace yields an unidentifiable relationship except in group 6. In this oldest group, gender -> arthritis is correctly identified."
   ]
  }
 ],
 "metadata": {
  "kernelspec": {
   "display_name": "Python 3 (ipykernel)",
   "language": "python",
   "name": "python3"
  },
  "language_info": {
   "codemirror_mode": {
    "name": "ipython",
    "version": 3
   },
   "file_extension": ".py",
   "mimetype": "text/x-python",
   "name": "python",
   "nbconvert_exporter": "python",
   "pygments_lexer": "ipython3",
   "version": "3.9.6"
  }
 },
 "nbformat": 4,
 "nbformat_minor": 1
}
